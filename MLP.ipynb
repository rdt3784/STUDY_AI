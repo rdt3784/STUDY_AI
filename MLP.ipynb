{
  "nbformat": 4,
  "nbformat_minor": 0,
  "metadata": {
    "colab": {
      "provenance": [],
      "authorship_tag": "ABX9TyOiLAz/sV+t9F8THUPMj8TZ",
      "include_colab_link": true
    },
    "kernelspec": {
      "name": "python3",
      "display_name": "Python 3"
    },
    "language_info": {
      "name": "python"
    }
  },
  "cells": [
    {
      "cell_type": "markdown",
      "metadata": {
        "id": "view-in-github",
        "colab_type": "text"
      },
      "source": [
        "<a href=\"https://colab.research.google.com/github/rdt3784/STUDY_AI/blob/main/MLP.ipynb\" target=\"_parent\"><img src=\"https://colab.research.google.com/assets/colab-badge.svg\" alt=\"Open In Colab\"/></a>"
      ]
    },
    {
      "cell_type": "code",
      "execution_count": 4,
      "metadata": {
        "colab": {
          "base_uri": "https://localhost:8080/"
        },
        "id": "W5T0KX6gg9vl",
        "outputId": "1b7d8340-5260-46d8-9f19-808ee6dd1df2"
      },
      "outputs": [
        {
          "output_type": "stream",
          "name": "stdout",
          "text": [
            "[[0.04855028]]\n",
            "[[0.96571423]]\n",
            "[[0.96571294]]\n",
            "[[0.03845358]]\n"
          ]
        }
      ],
      "source": [
        "import numpy as np\n",
        "\n",
        "#XOR data\n",
        "inputs=np.array([[0,0],[0,1],[1,0],[1,1]])\n",
        "outputs = np.array([[0],[1],[1],[0]])\n",
        "\n",
        "#퍼셉트론\n",
        "class Perceptron:\n",
        "    def __init__(self, input_size, output_size, learning_rate=0.05):\n",
        "        self.input_size= input_size\n",
        "        self.output_size= output_size\n",
        "        self.weights = np.random.randn(input_size, output_size)\n",
        "        self.bias = np.random.randn(1, output_size)\n",
        "        self.learning_rate = learning_rate\n",
        "\n",
        "    def sigmoid(self, x):\n",
        "        return 1 / (1 + np.exp(-x))\n",
        "\n",
        "    def sigmoid_derivative(self, x):\n",
        "        return x * (1 - x)\n",
        "\n",
        "    def forward(self, inputs):\n",
        "        self.inputs = inputs\n",
        "        self.linear_output = inputs @ self.weights + self.bias\n",
        "        self.y_pred = self.sigmoid(self.linear_output)\n",
        "        return self.y_pred\n",
        "#out layer backward\n",
        "    def out_layer_backward(self, y_true):\n",
        "        dLdy = -2 *(y_true - self.y_pred) / self.output_size\n",
        "        dLds = dLdy * self.sigmoid_derivative(self.y_pred)\n",
        "        dLdw= self.inputs.T @ dLds\n",
        "        r=dLds @ self.weights.T\n",
        "        self.weights -= dLdw * self.learning_rate\n",
        "        self.bias -= np.mean(dLds,axis=0) * self.learning_rate\n",
        "        return r\n",
        "#hidden layer backward\n",
        "    def hidden_layer_backward(self, grad):\n",
        "        db = grad * self.sigmoid_derivative(self.y_pred)\n",
        "        dw = self.inputs.T @ db\n",
        "        r = db\n",
        "        self.weights -= dw * self.learning_rate\n",
        "        self.bias -= np.mean(db,axis=0) * self.learning_rate\n",
        "        return r\n",
        "\n",
        "#hiddenlayer\n",
        "hidden_layer=Perceptron(2,2)\n",
        "#outlayer\n",
        "out_layer=Perceptron(2,1)\n",
        "\n",
        "epochs=20000\n",
        "\n",
        "#train\n",
        "for epoch in range(epochs):\n",
        "    out_layer.forward(hidden_layer.forward(inputs))\n",
        "    hidden_layer.hidden_layer_backward(out_layer.out_layer_backward(outputs))\n",
        "\n",
        "\n",
        "#XOR test\n",
        "for i in range(4):\n",
        "  print(out_layer.forward(hidden_layer.forward(inputs[i])))\n",
        "\n",
        "\n",
        "\n"
      ]
    },
    {
      "cell_type": "code",
      "source": [
        "import torch\n",
        "import torch.nn as nn\n",
        "import torch.optim as optim\n",
        "import numpy as np\n",
        "\n",
        "# XOR 데이터셋\n",
        "X = np.array([[0, 0], [0, 1], [1, 0], [1, 1]], dtype=np.float32)\n",
        "y = np.array([[0], [1], [1], [0]], dtype=np.float32)\n",
        "\n",
        "# NumPy 배열을 PyTorch 텐서로 변환\n",
        "X = torch.tensor(X)\n",
        "y = torch.tensor(y)\n",
        "\n",
        "# 신경망 모델 정의\n",
        "class XORModel(nn.Module):\n",
        "    def __init__(self):\n",
        "        super(XORModel, self).__init__()\n",
        "        self.hidden = nn.Linear(2, 2)\n",
        "        self.output = nn.Linear(2, 1)\n",
        "        self.sigmoid = nn.Sigmoid()\n",
        "\n",
        "    def forward(self, x):\n",
        "        x = self.sigmoid(self.hidden(x))\n",
        "        x = self.sigmoid(self.output(x))\n",
        "        return x\n",
        "\n",
        "# 모델 초기화\n",
        "model = XORModel()\n",
        "\n",
        "# 손실 함수와 옵티마이저 정의\n",
        "criterion = nn.MSELoss()\n",
        "optimizer = optim.SGD(model.parameters(), lr=0.1)\n",
        "\n",
        "# 학습\n",
        "num_epochs = 20000\n",
        "for epoch in range(num_epochs):\n",
        "    # 순전파\n",
        "    outputs = model(X)\n",
        "    loss = criterion(outputs, y)\n",
        "\n",
        "    # 역전파 및 옵티마이저 단계\n",
        "    optimizer.zero_grad()\n",
        "    loss.backward()\n",
        "    optimizer.step()\n",
        "\n",
        "\n",
        "# 결과 확인\n",
        "with torch.no_grad():\n",
        "    predicted = model(X)\n",
        "    print(predicted)\n"
      ],
      "metadata": {
        "colab": {
          "base_uri": "https://localhost:8080/"
        },
        "id": "RNLZIMSph1EK",
        "outputId": "1b579db6-126a-4753-abe6-b2c018182940"
      },
      "execution_count": 5,
      "outputs": [
        {
          "output_type": "stream",
          "name": "stdout",
          "text": [
            "tensor([[0.1072],\n",
            "        [0.8775],\n",
            "        [0.8771],\n",
            "        [0.1466]])\n"
          ]
        }
      ]
    }
  ]
}