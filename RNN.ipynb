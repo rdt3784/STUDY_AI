{
  "nbformat": 4,
  "nbformat_minor": 0,
  "metadata": {
    "colab": {
      "provenance": [],
      "authorship_tag": "ABX9TyOYaWkbP26WM2i/Hmb5IfhS",
      "include_colab_link": true
    },
    "kernelspec": {
      "name": "python3",
      "display_name": "Python 3"
    },
    "language_info": {
      "name": "python"
    }
  },
  "cells": [
    {
      "cell_type": "markdown",
      "metadata": {
        "id": "view-in-github",
        "colab_type": "text"
      },
      "source": [
        "<a href=\"https://colab.research.google.com/github/rdt3784/STUDY_AI/blob/main/RNN.ipynb\" target=\"_parent\"><img src=\"https://colab.research.google.com/assets/colab-badge.svg\" alt=\"Open In Colab\"/></a>"
      ]
    },
    {
      "cell_type": "code",
      "execution_count": 1,
      "metadata": {
        "colab": {
          "base_uri": "https://localhost:8080/"
        },
        "id": "7oiYHw1lFKUO",
        "outputId": "027d0ead-2506-4c72-cb1e-0dd392dd7837"
      },
      "outputs": [
        {
          "output_type": "stream",
          "name": "stdout",
          "text": [
            "[[1 0 0]\n",
            " [0 1 0]\n",
            " [0 0 1]\n",
            " [1 0 0]\n",
            " [0 1 0]\n",
            " [0 1 0]\n",
            " [0 0 1]\n",
            " [0 0 1]\n",
            " [0 1 0]\n",
            " [0 1 0]\n",
            " [1 0 0]\n",
            " [0 1 0]\n",
            " [0 1 0]\n",
            " [0 0 1]\n",
            " [0 1 0]\n",
            " [1 0 0]\n",
            " [0 0 1]\n",
            " [0 1 0]\n",
            " [0 1 0]\n",
            " [0 0 1]\n",
            " [0 0 1]\n",
            " [0 0 1]\n",
            " [0 0 1]\n",
            " [1 0 0]\n",
            " [0 0 1]\n",
            " [0 1 0]\n",
            " [0 1 0]\n",
            " [0 1 0]\n",
            " [0 1 0]\n",
            " [1 0 0]]\n"
          ]
        }
      ],
      "source": [
        "import numpy as np\n",
        "import random\n",
        "\n",
        "initial_values = [np.array([0,0,0]),np.array([0,0,0]),np.array([0,0,0])]\n",
        "inc = [np.array([1,0,0]),np.array([0,1,0]),np.array([0,0,1])]\n",
        "\n",
        "mat = np.array([initial_values[i%3]+inc[random.randint(0,100)%3] for i in range(30)])\n",
        "print(mat)"
      ]
    },
    {
      "cell_type": "code",
      "source": [
        "class RNN_BASE:\n",
        "  def __init__(self, input_size, hidden_size , seq_len ,lr):\n",
        "    #seq_len - backward때 몇개의 과거까지 train 할지\n",
        "    self.seq_len = seq_len\n",
        "    self.learning_rate = lr\n",
        "    self.h_size=hidden_size\n",
        "    self.U = np.random.randn(hidden_size,input_size) * 0.1\n",
        "    self.V = np.random.randn(hidden_size,hidden_size) * 0.1\n",
        "    self.W = np.random.randn(input_size, hidden_size) * 0.1\n",
        "\n",
        "    self.b0 = np.random.randn(hidden_size,1) * 0.1\n",
        "    self.b1 = np.random.randn(input_size,1) * 0.1\n",
        "\n",
        "    self.h0 = np.zeros((hidden_size,1))\n",
        "    self.h1 = np.zeros((self.h_size, 1))\n",
        "    self.X = []\n",
        "\n",
        "  def reset(self):\n",
        "    self.h0 = np.zeros((self.h_size, 1))\n",
        "    self.h_state = []\n",
        "    self.X = []\n",
        "    self.h_state.append(self.h0)\n",
        "\n",
        "  def forward(self, input):\n",
        "    self.X.append(input)\n",
        "    if len(self.X) > (self.seq_len):\n",
        "      self.X.pop(0)\n",
        "\n",
        "    self.h1 = np.tanh(self.U @ input + self.V @ self.h_state[-1] + self.b0)\n",
        "    self.y = self.W @ self.h1 + self.b1\n",
        "    ps = np.exp(self.y) / np.sum(np.exp(self.y))  # softmax계산\n",
        "\n",
        "    self.h_state.append(self.h1)\n",
        "    if len(self.h_state) > (self.seq_len+1):\n",
        "      self.h_state.pop(0)\n",
        "    return self.y\n",
        "\n",
        "  def backward(self, target):\n",
        "    db1 = (self.y-target)\n",
        "    dW = db1 @ self.h_state[-1].T #(self.y-target) @ self.h1.T\n",
        "\n",
        "    db0 = self.W.T @ db1 *(1 - self.h_state[-1]**2) # self.W.T @ (self.y-target)  *(1 - self.h1**2)\n",
        "    dV = db0 @ self.h_state[-2].T # self.W.T @ (self.y-target)  *(1 - self.h1**2) @self.h0.T\n",
        "    dU = db0 @ self.X[-1].T # self.W.T @ (self.y-target)  *(1 - self.h1**2) @ self.input.T\n",
        "    dh = self.V.T @ db0\n",
        "    for i in range(len(self.X)-1):\n",
        "      db0 += dh * (1 - self.h_state[-2-i]**2)\n",
        "      dV += dh * (1 - self.h_state[-2-i]**2) @ self.h_state[-3-i].T\n",
        "      dU += dh * (1 - self.h_state[-2-i]**2) @ self.X[-2-i].T\n",
        "      dh = self.V.T @ dh * (1 - self.h_state[-2-i]**2)\n",
        "\n",
        "\n",
        "    self.U -= self.learning_rate * dU\n",
        "    self.V -= self.learning_rate * dV\n",
        "    self.b0 -= self.learning_rate * db0\n",
        "    self.W -= self.learning_rate * dW\n",
        "    self.b1 -= self.learning_rate * db1\n",
        "\n",
        "\n",
        "class RNN:\n",
        "  def __init__(self, input_size, hidden_size , seq_len ,lr):\n",
        "    #seq_len - backward때 몇개의 과거까지 train 할지\n",
        "    self.m=RNN_BASE(input_size, hidden_size , seq_len ,lr)\n",
        "    self.i= input_size\n",
        "  def train(self, x, y):\n",
        "    self.m.reset()\n",
        "    for i in range(len(x)):\n",
        "      self.m.forward(x[i].reshape(self.i,1))\n",
        "      self.m.backward(y[i].reshape(self.i,1))\n",
        "\n",
        "  def predict(self, x,c):\n",
        "    out=[]\n",
        "    self.m.reset()\n",
        "    for i in range(c):\n",
        "      o=self.m.forward(x.reshape(self.i,1))\n",
        "      idx=np.argmax(o)\n",
        "      out.append(idx)\n",
        "      x= np.zeros((self.i,1))\n",
        "      x[idx]=1\n",
        "    return out\n"
      ],
      "metadata": {
        "id": "ZKiJ12VqFM4X"
      },
      "execution_count": 2,
      "outputs": []
    },
    {
      "cell_type": "code",
      "source": [
        "x1=[]\n",
        "\n",
        "for i in range(20):\n",
        "  idx=np.argmax(mat[i+1])\n",
        "  x1.append(idx)\n",
        "print(x1)\n",
        "\n",
        "m = RNN(3,5,3,0.03)\n",
        "input =np.array([[1,0,0],[0,1,0],[0,0,1]])\n",
        "target = np.array([[0,0,1],[1,0,0],[0,1,0]])\n",
        "command = np.array([[1,1,1],[1,1,1],[1,1,1]]).reshape(3,3)\n",
        "i= 3000\n",
        "while True:\n",
        "  i-=1\n",
        "  if i<0:\n",
        "    break\n",
        "\n",
        "  m.train(mat[:-16],mat[1:])\n",
        "\n",
        "print(m.predict(mat[0],14))"
      ],
      "metadata": {
        "colab": {
          "base_uri": "https://localhost:8080/"
        },
        "id": "u4IZGc-3FOzO",
        "outputId": "c6396d79-cf5b-419d-cee5-0350b6edb3b5"
      },
      "execution_count": 4,
      "outputs": [
        {
          "output_type": "stream",
          "name": "stdout",
          "text": [
            "[1, 2, 0, 1, 1, 2, 2, 1, 1, 0, 1, 1, 2, 1, 0, 2, 1, 1, 2, 2]\n",
            "[1, 2, 0, 1, 1, 2, 2, 1, 1, 0, 1, 1, 2, 1]\n"
          ]
        }
      ]
    },
    {
      "cell_type": "code",
      "source": [
        "import torch\n",
        "import torch.nn as nn\n",
        "import torch.optim as optim\n",
        "\n",
        "input =torch.tensor([[[1,0,0],[1,1,1]],[[0,1,0],[1,1,1]],[[0,0,1],[1,1,1]]],dtype=torch.float32)\n",
        "target = torch.tensor([[0,0,1],[1,0,0],[0,1,0]],dtype=torch.float32)\n",
        "\n",
        "command = torch.tensor([1,1,1])\n",
        "\n",
        "class RNN(nn.Module):\n",
        "    def __init__(self, input_size, hidden_size, output_size, num_layers=1):\n",
        "        super(RNN, self).__init__()\n",
        "        self.hidden_size = hidden_size\n",
        "        self.num_layers = num_layers\n",
        "\n",
        "        # RNN Layer\n",
        "        self.rnn = nn.RNN(input_size, hidden_size, num_layers, batch_first=True,nonlinearity='tanh')\n",
        "\n",
        "        # Fully connected layer\n",
        "        self.fc = nn.Linear(hidden_size, output_size)\n",
        "\n",
        "    def forward(self, x):\n",
        "        # Initialize hidden state with zeros\n",
        "        h0 = torch.zeros(self.num_layers, x.size(0), self.hidden_size).to(x.device)\n",
        "\n",
        "        # Forward propagate RNN\n",
        "        out, _ = self.rnn(x, h0)\n",
        "\n",
        "        # Decode the hidden state of the last time step\n",
        "        out = self.fc(out[:, -1, :])\n",
        "        return out\n",
        "\n",
        "\n",
        "model = RNN(3, 3, 3)\n",
        "criterion = nn.CrossEntropyLoss() # For regression tasks\n",
        "optimizer = optim.SGD(model.parameters(), lr=0.01)\n",
        "\n",
        "\n",
        "num_epochs=2000\n",
        "for epoch in range(num_epochs):\n",
        "    model.train()\n",
        "\n",
        "    # Forward pass\n",
        "    outputs = model(input.reshape(3,2,3))\n",
        "    loss = criterion(outputs, target)\n",
        "\n",
        "    # Backward pass and optimization\n",
        "    optimizer.zero_grad()\n",
        "    loss.backward()\n",
        "    optimizer.step()\n",
        "\n",
        "    if (epoch+1) % 1000 == 0:\n",
        "        print(f'Epoch [{epoch+1}/{num_epochs}], Loss: {loss.item():.4f}')\n",
        "\n",
        "model.eval()\n",
        "with torch.no_grad():\n",
        "    print(model(torch.tensor([[0,1,0],[1,1,1]],dtype=torch.float32).reshape(1,2,3)))\n",
        "    print(model(torch.tensor([[0,0,1],[1,1,1]],dtype=torch.float32).reshape(1,2,3)))\n",
        "    print(model(torch.tensor([[1,0,0],[1,1,1]],dtype=torch.float32).reshape(1,2,3)))\n",
        "\n"
      ],
      "metadata": {
        "colab": {
          "base_uri": "https://localhost:8080/"
        },
        "id": "R7RdJCpfFUpq",
        "outputId": "f1c151b4-d871-493b-836b-758c863eb632"
      },
      "execution_count": 5,
      "outputs": [
        {
          "output_type": "stream",
          "name": "stdout",
          "text": [
            "Epoch [1000/2000], Loss: 1.0842\n",
            "Epoch [2000/2000], Loss: 0.5405\n",
            "tensor([[ 1.4686, -1.1505, -0.2465]])\n",
            "tensor([[-1.0597,  1.3044,  0.8558]])\n",
            "tensor([[-0.5297,  0.6719,  0.6512]])\n"
          ]
        }
      ]
    },
    {
      "cell_type": "code",
      "source": [],
      "metadata": {
        "id": "HebMl5vkFnvZ"
      },
      "execution_count": null,
      "outputs": []
    }
  ]
}